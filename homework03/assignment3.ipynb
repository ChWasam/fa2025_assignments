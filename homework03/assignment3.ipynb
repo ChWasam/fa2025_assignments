{
 "cells": [
  {
   "cell_type": "code",
   "execution_count": 1,
   "metadata": {
    "deletable": false,
    "editable": false
   },
   "outputs": [],
   "source": [
    "# Initialize Otter\n",
    "import otter\n",
    "grader = otter.Notebook(\"assignment3.ipynb\")"
   ]
  },
  {
   "cell_type": "markdown",
   "metadata": {},
   "source": [
    "# Linear Algebra Refresher and an Introduction to NumPy\n",
    "\n",
    "This assignment aims to refresh your understanding of key linear algebra concepts that are fundamental to data science and machine learning, with a focus on practical implementation using NumPy. NumPy (Numerical Python) is a foundational library for scientific computing in Python and is another vital tool we'll be using in this class. It provides support for large, multi-dimensional arrays and matrices, along with a vast collection of high-level mathematical functions to operate on these arrays efficiently. \n",
    "\n",
    "You'll find the [Numpy documentation](https://numpy.org/doc/stable/) useful in this assignment.\n",
    "\n",
    "You should write code in the cells marked with \"YOUR CODE HERE\" or \"...\""
   ]
  },
  {
   "cell_type": "code",
   "execution_count": 2,
   "metadata": {},
   "outputs": [],
   "source": [
    "import numpy as np\n",
    "import matplotlib.pyplot as plt\n",
    "import pandas as pd\n",
    "\n",
    "np.random.seed(701)"
   ]
  },
  {
   "cell_type": "markdown",
   "metadata": {},
   "source": [
    "## Part 1 - Basics"
   ]
  },
  {
   "cell_type": "markdown",
   "metadata": {},
   "source": [
    "You can turn a Python array, such as a list, of any dimensions into a Numpy array using `np.array()`."
   ]
  },
  {
   "cell_type": "code",
   "execution_count": 3,
   "metadata": {},
   "outputs": [
    {
     "name": "stdout",
     "output_type": "stream",
     "text": [
      "[1, 2, 3, 4, 5]\n",
      "[1 2 3 4 5]\n",
      "[[1, 2, 3], [4, 5, 6]]\n",
      "[[1 2 3]\n",
      " [4 5 6]]\n"
     ]
    }
   ],
   "source": [
    "py_array = [1, 2, 3, 4, 5]\n",
    "np_array = np.array(py_array)\n",
    "\n",
    "py_array2 = [[1, 2, 3], [4, 5, 6]]\n",
    "np_array2 = np.array(py_array2)\n",
    "\n",
    "print(py_array)\n",
    "print(np_array)\n",
    "print(py_array2)\n",
    "print(np_array2)"
   ]
  },
  {
   "cell_type": "markdown",
   "metadata": {},
   "source": [
    "#### **Question 1:** "
   ]
  },
  {
   "cell_type": "markdown",
   "metadata": {},
   "source": [
    "A very common operation is checking the shape of an array. You can check the shape of a numpy array using the `.shape` attribute. Print the shapes of the two numpy arrays we created above in the next cell."
   ]
  },
  {
   "cell_type": "code",
   "execution_count": 4,
   "metadata": {
    "tags": [
     "otter_answer_cell"
    ]
   },
   "outputs": [
    {
     "name": "stdout",
     "output_type": "stream",
     "text": [
      "(5,)\n",
      "<class 'tuple'>\n",
      "(2, 3)\n"
     ]
    }
   ],
   "source": [
    "np_array_shape = np_array.shape\n",
    "print(np_array_shape)\n",
    "print(type(np_array_shape))\n",
    "\n",
    "np_array2_shape = np_array2.shape\n",
    "print(np_array2_shape)"
   ]
  },
  {
   "cell_type": "code",
   "execution_count": 5,
   "metadata": {
    "deletable": false,
    "editable": false
   },
   "outputs": [
    {
     "data": {
      "text/html": [
       "<p><strong><pre style='display: inline;'>q1</pre></strong> passed! 💯</p>"
      ],
      "text/plain": [
       "q1 results: All test cases passed!"
      ]
     },
     "execution_count": 5,
     "metadata": {},
     "output_type": "execute_result"
    }
   ],
   "source": [
    "grader.check(\"q1\")"
   ]
  },
  {
   "cell_type": "markdown",
   "metadata": {
    "deletable": false,
    "editable": false
   },
   "source": [
    "#### **Question 2:**"
   ]
  },
  {
   "cell_type": "markdown",
   "metadata": {
    "deletable": false,
    "editable": false
   },
   "source": [
    "Now, use the [numpy random module](https://numpy.org/doc/stable/reference/random/index.html) to create a 3x3 array of random integers from 1 to 10. "
   ]
  },
  {
   "cell_type": "code",
   "execution_count": 6,
   "metadata": {
    "tags": [
     "otter_answer_cell"
    ]
   },
   "outputs": [
    {
     "name": "stdout",
     "output_type": "stream",
     "text": [
      "3x3 array of random numbers from 1 to 10:\n",
      "[[ 3  3 10]\n",
      " [ 9  4  3]\n",
      " [ 6  6  9]]\n"
     ]
    }
   ],
   "source": [
    "rng = np.random.default_rng()\n",
    "random_array = rng.integers(low=1, high=11, size=(3, 3))\n",
    "\n",
    "print(\"3x3 array of random numbers from 1 to 10:\")\n",
    "print(random_array)"
   ]
  },
  {
   "cell_type": "code",
   "execution_count": 7,
   "metadata": {
    "deletable": false,
    "editable": false
   },
   "outputs": [
    {
     "data": {
      "text/html": [
       "<p><strong><pre style='display: inline;'>q2</pre></strong> passed! 🌟</p>"
      ],
      "text/plain": [
       "q2 results: All test cases passed!"
      ]
     },
     "execution_count": 7,
     "metadata": {},
     "output_type": "execute_result"
    }
   ],
   "source": [
    "grader.check(\"q2\")"
   ]
  },
  {
   "cell_type": "markdown",
   "metadata": {},
   "source": [
    "You can perform element wise addition, subtraction, multiplication, and division on two arrays. "
   ]
  },
  {
   "cell_type": "code",
   "execution_count": 9,
   "metadata": {},
   "outputs": [
    {
     "name": "stdout",
     "output_type": "stream",
     "text": [
      "Element wise addition: [5 7 9]\n",
      "Element wise subtraction: [-3 -3 -3]\n",
      "Element wise multiplication: [ 4 10 18]\n",
      "Element wise division: [0.25 0.4  0.5 ]\n"
     ]
    }
   ],
   "source": [
    "a1 = np.array([1, 2, 3])\n",
    "a2 = np.array([4, 5, 6])\n",
    "\n",
    "print(\"Element wise addition:\", a1 + a2)\n",
    "print(\"Element wise subtraction:\", a1 - a2)\n",
    "print(\"Element wise multiplication:\", a1 * a2)\n",
    "print(\"Element wise division:\", a1 / a2)"
   ]
  },
  {
   "cell_type": "markdown",
   "metadata": {},
   "source": [
    "#### **Question 3:** "
   ]
  },
  {
   "cell_type": "markdown",
   "metadata": {
    "deletable": false,
    "editable": false
   },
   "source": [
    "Use the [`.dot` method](https://numpy.org/doc/1.21/reference/generated/numpy.ndarray.dot.html) to compute the dot product of vectors $a_1$ and $a_2$."
   ]
  },
  {
   "cell_type": "code",
   "execution_count": 10,
   "metadata": {
    "tags": [
     "otter_answer_cell"
    ]
   },
   "outputs": [],
   "source": [
    "dot_product = a1.dot(a2)"
   ]
  },
  {
   "cell_type": "code",
   "execution_count": 11,
   "metadata": {
    "deletable": false,
    "editable": false
   },
   "outputs": [
    {
     "data": {
      "text/html": [
       "<p><strong><pre style='display: inline;'>q3</pre></strong> passed! ✨</p>"
      ],
      "text/plain": [
       "q3 results: All test cases passed!"
      ]
     },
     "execution_count": 11,
     "metadata": {},
     "output_type": "execute_result"
    }
   ],
   "source": [
    "grader.check(\"q3\")"
   ]
  },
  {
   "cell_type": "markdown",
   "metadata": {
    "deletable": false,
    "editable": false
   },
   "source": [
    "### Question 4"
   ]
  },
  {
   "cell_type": "markdown",
   "metadata": {
    "deletable": false,
    "editable": false
   },
   "source": [
    "Compute the matrix product of the two matrices defined below, $M_1$ and $M_2$. You can use [`np.matmul`](https://numpy.org/doc/stable/reference/generated/numpy.matmul.html) or its shorthand `@`. "
   ]
  },
  {
   "cell_type": "code",
   "execution_count": 12,
   "metadata": {
    "tags": [
     "otter_answer_cell"
    ]
   },
   "outputs": [
    {
     "name": "stdout",
     "output_type": "stream",
     "text": [
      "Matrix product of M1 and M2:\n",
      "[[19 22]\n",
      " [43 50]]\n"
     ]
    }
   ],
   "source": [
    "M1 = np.array([[1, 2], \n",
    "               [3, 4]])\n",
    "\n",
    "M2 = np.array([[5, 6], \n",
    "               [7, 8]])\n",
    "\n",
    "product = M1 @ M2\n",
    "\n",
    "print(\"Matrix product of M1 and M2:\")\n",
    "print(product)"
   ]
  },
  {
   "cell_type": "code",
   "execution_count": 13,
   "metadata": {
    "deletable": false,
    "editable": false
   },
   "outputs": [
    {
     "data": {
      "text/html": [
       "<p><strong><pre style='display: inline;'>q4</pre></strong> passed! 💯</p>"
      ],
      "text/plain": [
       "q4 results: All test cases passed!"
      ]
     },
     "execution_count": 13,
     "metadata": {},
     "output_type": "execute_result"
    }
   ],
   "source": [
    "grader.check(\"q4\")"
   ]
  },
  {
   "cell_type": "markdown",
   "metadata": {},
   "source": [
    "## Broadcasting"
   ]
  },
  {
   "cell_type": "markdown",
   "metadata": {},
   "source": [
    "A key strength of Numpy is [broadcasting](https://numpy.org/doc/stable/user/basics.broadcasting.html) - treating arrays of different shapes during arithmetic operations. Let's play with it here. "
   ]
  },
  {
   "cell_type": "code",
   "execution_count": 14,
   "metadata": {},
   "outputs": [
    {
     "name": "stdout",
     "output_type": "stream",
     "text": [
      "Broadcasting a + b: [3. 4. 5.]\n",
      "Broadcasting a - b: [-1.  0.  1.]\n",
      "Broadcasting a * b: [2. 4. 6.]\n",
      "Broadcasting a / b: [0.5 1.  1.5]\n"
     ]
    }
   ],
   "source": [
    "# EXAMPLE\n",
    "a = np.array([1.0, 2.0, 3.0])\n",
    "b = 2.0\n",
    "\n",
    "print(\"Broadcasting a + b:\", a + b)\n",
    "print(\"Broadcasting a - b:\", a - b)\n",
    "print(\"Broadcasting a * b:\", a * b)\n",
    "print(\"Broadcasting a / b:\", a / b)\n"
   ]
  },
  {
   "cell_type": "markdown",
   "metadata": {
    "deletable": false,
    "editable": false
   },
   "source": [
    "### Question 5"
   ]
  },
  {
   "cell_type": "markdown",
   "metadata": {
    "deletable": false,
    "editable": false
   },
   "source": [
    "For this exercise, do the following:\n",
    "\n",
    "1. Create a 2D array called `a1` with shape (3, 4) containing random integers between 1 and 10 (exclusive), in other words between 1 and 9 (inclusive).\n",
    "   \n",
    "2. Create a 1D array called `b1` with shape (4,) containing random integers between 1 and 5 (exclusive), in other words between 1 and 9 (inclusive).\n",
    "   \n",
    "3. Use broadcasting to add b to each row of `a1`.\n",
    "   \n",
    "4. Print the original arrays and the result. "
   ]
  },
  {
   "cell_type": "code",
   "execution_count": 16,
   "metadata": {
    "tags": [
     "otter_answer_cell"
    ]
   },
   "outputs": [
    {
     "name": "stdout",
     "output_type": "stream",
     "text": [
      "A1:\n",
      " [[1 9 7 9]\n",
      " [3 8 1 9]\n",
      " [5 9 3 3]]\n",
      "B1:\n",
      " [1 1 1 2]\n",
      "\n",
      "Result:\n",
      " [[ 2 10  8 11]\n",
      " [ 4  9  2 11]\n",
      " [ 6 10  4  5]]\n"
     ]
    }
   ],
   "source": [
    "rng = np.random.default_rng(701)\n",
    "\n",
    "a1 = rng.integers(low=1, high=10, size=(3, 4))\n",
    "b1 = rng.integers(low=1, high=5, size=(4,))\n",
    "\n",
    "print(\"A1:\\n\", a1)\n",
    "print(\"B1:\\n\", b1)\n",
    "\n",
    "result = a1 + b1\n",
    "\n",
    "print(\"\\nResult:\\n\", result)"
   ]
  },
  {
   "cell_type": "code",
   "execution_count": 17,
   "metadata": {
    "deletable": false,
    "editable": false
   },
   "outputs": [
    {
     "data": {
      "text/html": [
       "<p><strong><pre style='display: inline;'>q5</pre></strong> passed! 🎉</p>"
      ],
      "text/plain": [
       "q5 results: All test cases passed!"
      ]
     },
     "execution_count": 17,
     "metadata": {},
     "output_type": "execute_result"
    }
   ],
   "source": [
    "grader.check(\"q5\")"
   ]
  },
  {
   "cell_type": "markdown",
   "metadata": {
    "deletable": false,
    "editable": false
   },
   "source": [
    "### Question 6"
   ]
  },
  {
   "cell_type": "markdown",
   "metadata": {
    "deletable": false,
    "editable": false
   },
   "source": [
    "Let's demonstrate broadcasting with a concrete example. We'll create a 100x100x3 array that will represent an RGB image (red, green, blue). Specifically, every row and column contains an array of 3 values - level of red (R), level of green (G) and level of blue (B). Every one of those values ('levels') is in the range 0 (black) to 255 (brightest)."
   ]
  },
  {
   "cell_type": "code",
   "execution_count": 31,
   "metadata": {
    "deletable": false,
    "editable": false
   },
   "outputs": [
    {
     "name": "stdout",
     "output_type": "stream",
     "text": [
      "Here is a random 100x100x3 image:\n"
     ]
    },
    {
     "data": {
      "image/png": "[encoded data removed]",
      "text/plain": [
       "<Figure size 640x480 with 1 Axes>"
      ]
     },
     "metadata": {},
     "output_type": "display_data"
    }
   ],
   "source": [
    "np.random.seed(701)\n",
    "\n",
    "random_image = np.random.randint(0, 255, size=(100, 100, 3))\n",
    "\n",
    "print(\"Here is a random 100x100x3 image:\")\n",
    "plt.imshow(random_image)\n",
    "plt.axis('off')\n",
    "plt.show()"
   ]
  },
  {
   "cell_type": "code",
   "execution_count": 32,
   "metadata": {
    "deletable": false,
    "editable": false
   },
   "outputs": [
    {
     "name": "stdout",
     "output_type": "stream",
     "text": [
      "Level of red (R), level of green (G) and level of blue (B) at the top left corner of the image:\n",
      "[230  84 212]\n"
     ]
    }
   ],
   "source": [
    "print(\"Level of red (R), level of green (G) and level of blue (B) at the top left corner of the image:\")\n",
    "print(random_image[0][0])"
   ]
  },
  {
   "cell_type": "markdown",
   "metadata": {
    "deletable": false,
    "editable": false
   },
   "source": [
    "We can use broadcasting to alter the colors of the image. For this exercise, create a 1D array of length 3 to represent brightness adjustments. For example, [1.1, 0.9, 1.2] to brighten red, darken green, and brighten blue (NOTE: Do NOT use numpy.random for this, create it yourself.)\n",
    "\n",
    "Then, use broadcasting to apply these adjustments to the entire image. \n",
    "\n",
    "You might need to clip the resulting values to ensure they stay within the valid range (0-255)."
   ]
  },
  {
   "cell_type": "code",
   "execution_count": 33,
   "metadata": {
    "tags": [
     "otter_answer_cell"
    ]
   },
   "outputs": [
    {
     "name": "stderr",
     "output_type": "stream",
     "text": [
      "Clipping input data to the valid range for imshow with RGB data ([0..1] for floats or [0..255] for integers). Got range [0..304].\n"
     ]
    },
    {
     "data": {
      "image/png": "[encoded data removed]",
      "text/plain": [
       "<Figure size 640x480 with 1 Axes>"
      ]
     },
     "metadata": {},
     "output_type": "display_data"
    }
   ],
   "source": [
    "from copy import deepcopy\n",
    "\n",
    "changed_image = deepcopy(random_image)\n",
    "\n",
    "brightness_adjustments = [1.2, 0.8, 1.1]\n",
    "\n",
    "changed_image = changed_image * brightness_adjustments\n",
    "\n",
    "changed_image = changed_image.astype(int)\n",
    "plt.imshow(changed_image)\n",
    "plt.axis('off')\n",
    "plt.show()\n"
   ]
  },
  {
   "cell_type": "markdown",
   "metadata": {
    "deletable": false,
    "editable": false
   },
   "source": [
    "Feel free to play around with the brightness adjustments! "
   ]
  },
  {
   "cell_type": "code",
   "execution_count": 34,
   "metadata": {
    "deletable": false,
    "editable": false
   },
   "outputs": [
    {
     "data": {
      "text/html": [
       "<p><strong><pre style='display: inline;'>q6</pre></strong> passed! ✨</p>"
      ],
      "text/plain": [
       "q6 results: All test cases passed!"
      ]
     },
     "execution_count": 34,
     "metadata": {},
     "output_type": "execute_result"
    }
   ],
   "source": [
    "grader.check(\"q6\")"
   ]
  },
  {
   "cell_type": "markdown",
   "metadata": {},
   "source": [
    "## Part 2 - Linear Algebra with Numpy\n",
    "\n",
    "For this part, you should find the appropriate functions and methods from the documentation or online. "
   ]
  },
  {
   "cell_type": "markdown",
   "metadata": {
    "deletable": false,
    "editable": false
   },
   "source": [
    "### Question 7"
   ]
  },
  {
   "cell_type": "markdown",
   "metadata": {
    "deletable": false,
    "editable": false
   },
   "source": [
    "Calculate the $\\ell_2$ norm of the vector $v_1$.  See numpy's [norm](https://numpy.org/doc/2.3/reference/generated/numpy.linalg.norm.html)."
   ]
  },
  {
   "cell_type": "code",
   "execution_count": 22,
   "metadata": {
    "tags": [
     "otter_answer_cell"
    ]
   },
   "outputs": [
    {
     "name": "stdout",
     "output_type": "stream",
     "text": [
      "Vector v1: [6 4 4 5 6 8 5 9 2 7]\n",
      "l2 norm of v1: 18.76\n"
     ]
    }
   ],
   "source": [
    "np.random.seed(701)\n",
    "\n",
    "v1 = np.random.randint(0, 10, size=10)\n",
    "print(\"Vector v1:\", v1)\n",
    "\n",
    "magnitude = np.linalg.norm(v1)\n",
    "\n",
    "print(f\"l2 norm of v1: {magnitude:.2f}\")"
   ]
  },
  {
   "cell_type": "code",
   "execution_count": 23,
   "metadata": {
    "deletable": false,
    "editable": false
   },
   "outputs": [
    {
     "data": {
      "text/html": [
       "<p><strong><pre style='display: inline;'>q7</pre></strong> passed! 🎉</p>"
      ],
      "text/plain": [
       "q7 results: All test cases passed!"
      ]
     },
     "execution_count": 23,
     "metadata": {},
     "output_type": "execute_result"
    }
   ],
   "source": [
    "grader.check(\"q7\")"
   ]
  },
  {
   "cell_type": "markdown",
   "metadata": {},
   "source": [
    "### Matrix Decompositions"
   ]
  },
  {
   "cell_type": "markdown",
   "metadata": {
    "deletable": false,
    "editable": false
   },
   "source": [
    "### Question 8\n",
    "\n",
    "Use Numpy to get the eigenvalues and eigenvectors of a given matrix $M_3$. \n",
    "See numpy's [eig](https://numpy.org/doc/2.3/reference/generated/numpy.linalg.eig.html) function."
   ]
  },
  {
   "cell_type": "code",
   "execution_count": 24,
   "metadata": {
    "tags": [
     "otter_answer_cell"
    ]
   },
   "outputs": [
    {
     "name": "stdout",
     "output_type": "stream",
     "text": [
      "Eigenvalues of M3: ['94.75', '-4.75', '-0.00']\n",
      "Eigenvectors of M3: [['-0.28', '-0.78', '0.41'], ['-0.54', '-0.07', '-0.82'], ['-0.79', '0.63', '0.41']]\n"
     ]
    }
   ],
   "source": [
    "M3 = np.array([[10, 15, 20],\n",
    "               [25, 30, 35],\n",
    "               [40, 45, 50]])\n",
    "\n",
    "eigenvalues, eigenvectors = np.linalg.eig(M3)\n",
    "\n",
    "print(f\"Eigenvalues of M3: {[f'{x:.2f}' for x in eigenvalues]}\")\n",
    "print(f\"Eigenvectors of M3: {[[f'{x:.2f}' for x in v] for v in eigenvectors]}\")"
   ]
  },
  {
   "cell_type": "code",
   "execution_count": 25,
   "metadata": {
    "deletable": false,
    "editable": false
   },
   "outputs": [
    {
     "data": {
      "text/html": [
       "<p><strong><pre style='display: inline;'>q8</pre></strong> passed! 🎉</p>"
      ],
      "text/plain": [
       "q8 results: All test cases passed!"
      ]
     },
     "execution_count": 25,
     "metadata": {},
     "output_type": "execute_result"
    }
   ],
   "source": [
    "grader.check(\"q8\")"
   ]
  },
  {
   "cell_type": "markdown",
   "metadata": {
    "deletable": false,
    "editable": false
   },
   "source": [
    "#### Question 9\n",
    "\n",
    "Verify that $Av = λv$ for each eigenpair $(λ, v)$ you found. "
   ]
  },
  {
   "cell_type": "markdown",
   "metadata": {
    "deletable": false,
    "editable": false
   },
   "source": [
    "Reconstruct the matrix using the eigendecomposition that we describe in the\n",
    "[notes](https://tools4ds.github.io/DS701-Course-Notes/04-Linear-Algebra-Refresher.html#eigendecomposition). \n"
   ]
  },
  {
   "cell_type": "code",
   "execution_count": 27,
   "metadata": {
    "tags": [
     "otter_answer_cell"
    ]
   },
   "outputs": [
    {
     "name": "stdout",
     "output_type": "stream",
     "text": [
      "Eigenpair 1 (λ=94.75): M3 @ v ≈ λv: True\n",
      "Eigenpair 2 (λ=-4.75): M3 @ v ≈ λv: True\n",
      "Eigenpair 3 (λ=-0.00): M3 @ v ≈ λv: True\n",
      "Reconstructed M3: [[10. 15. 20.]\n",
      " [25. 30. 35.]\n",
      " [40. 45. 50.]]\n"
     ]
    }
   ],
   "source": [
    "\n",
    "for i in range(len(eigenvalues)):\n",
    "    lambda_i = eigenvalues[i]\n",
    "    v_i = eigenvectors[:, i]\n",
    "    left = M3 @ v_i\n",
    "    right = lambda_i * v_i\n",
    "    assert np.allclose(left, right), f\"Eigenpair {i+1} verification failed\"\n",
    "    print(f\"Eigenpair {i+1} (λ={lambda_i:.2f}): M3 @ v ≈ λv: {np.allclose(left, right)}\")\n",
    "\n",
    "M3_reconstructed = eigenvectors @ np.diag(eigenvalues) @ np.linalg.inv(eigenvectors)\n",
    "\n",
    "print(\"Reconstructed M3:\", M3_reconstructed)"
   ]
  },
  {
   "cell_type": "code",
   "execution_count": 28,
   "metadata": {
    "deletable": false,
    "editable": false
   },
   "outputs": [
    {
     "data": {
      "text/html": [
       "<p><strong><pre style='display: inline;'>q9</pre></strong> passed! 🌟</p>"
      ],
      "text/plain": [
       "q9 results: All test cases passed!"
      ]
     },
     "execution_count": 28,
     "metadata": {},
     "output_type": "execute_result"
    }
   ],
   "source": [
    "grader.check(\"q9\")"
   ]
  },
  {
   "cell_type": "markdown",
   "metadata": {
    "deletable": false,
    "editable": false
   },
   "source": [
    "### Question 10: Singular Value Decomposition"
   ]
  },
  {
   "cell_type": "markdown",
   "metadata": {
    "deletable": false,
    "editable": false
   },
   "source": [
    "Decompose and reconstruct the matrix in the same manner for the Singular Value Decomposition below. \n",
    "See [svd](https://numpy.org/doc/2.3/reference/generated/numpy.linalg.svd.html)."
   ]
  },
  {
   "cell_type": "code",
   "execution_count": 29,
   "metadata": {
    "tags": [
     "otter_answer_cell"
    ]
   },
   "outputs": [
    {
     "name": "stdout",
     "output_type": "stream",
     "text": [
      "Singular values of M3: ['97.87', '4.60', '0.00']\n",
      "U matrix of M3: [['-0.27', '0.87', '0.41'], ['-0.54', '0.22', '-0.82'], ['-0.80', '-0.44', '0.41']]\n",
      "V matrix of M3: [['-0.49', '-0.57', '-0.66'], ['-0.77', '-0.07', '0.64'], ['-0.41', '0.82', '-0.41']]\n",
      "Reconstructed M3: [[10. 15. 20.]\n",
      " [25. 30. 35.]\n",
      " [40. 45. 50.]]\n"
     ]
    }
   ],
   "source": [
    "U, s, V = np.linalg.svd(M3)\n",
    "\n",
    "print(f\"Singular values of M3: {[f'{x:.2f}' for x in s]}\")\n",
    "print(f\"U matrix of M3: {[[f'{x:.2f}' for x in v] for v in U]}\")\n",
    "print(f\"V matrix of M3: {[[f'{x:.2f}' for x in v] for v in V]}\")\n",
    "\n",
    "M3_reconstructed = U @ np.diag(s) @ V\n",
    "\n",
    "print(\"Reconstructed M3:\", M3_reconstructed)"
   ]
  },
  {
   "cell_type": "code",
   "execution_count": 30,
   "metadata": {
    "deletable": false,
    "editable": false
   },
   "outputs": [
    {
     "data": {
      "text/html": [
       "<p><strong><pre style='display: inline;'>q10</pre></strong> passed! 💯</p>"
      ],
      "text/plain": [
       "q10 results: All test cases passed!"
      ]
     },
     "execution_count": 30,
     "metadata": {},
     "output_type": "execute_result"
    }
   ],
   "source": [
    "grader.check(\"q10\")"
   ]
  },
  {
   "cell_type": "markdown",
   "metadata": {
    "deletable": false,
    "editable": false
   },
   "source": [
    "## Submission\n",
    "\n",
    "Make sure you have run all cells in your notebook in order before running the cell below, so that all images/graphs appear in the output. The cell below will generate a zip file for you to submit. **Please save before exporting!**"
   ]
  },
  {
   "cell_type": "code",
   "execution_count": null,
   "metadata": {
    "deletable": false,
    "editable": false
   },
   "outputs": [],
   "source": [
    "# Save your notebook first, then run this cell to export your submission.\n",
    "grader.export(run_tests=True)"
   ]
  },
  {
   "cell_type": "markdown",
   "metadata": {},
   "source": [
    " "
   ]
  }
 ],
 "metadata": {
  "kernelspec": {
   "display_name": "ds701",
   "language": "python",
   "name": "python3"
  },
  "language_info": {
   "codemirror_mode": {
    "name": "ipython",
    "version": 3
   },
   "file_extension": ".py",
   "mimetype": "text/x-python",
   "name": "python",
   "nbconvert_exporter": "python",
   "pygments_lexer": "ipython3",
   "version": "3.12.4"
  },
  "otter": {
   "OK_FORMAT": true,
   "tests": {
    "q1": {
     "name": "q1",
     "points": 1,
     "suites": [
      {
       "cases": [
        {
         "code": ">>> def test_q1(np_array_shape, np_array2_shape):\n...     assert np.all(np_array_shape == (5,)), f'Expected shape (5,), but got {np_array_shape}'\n...     assert np.all(np_array2_shape == (2, 3)), f'Expected shape (2, 3), but got {np_array2_shape}'\n>>> test_q1(np_array_shape, np_array2_shape)\n",
         "hidden": false,
         "locked": false
        }
       ],
       "scored": true,
       "setup": "",
       "teardown": "",
       "type": "doctest"
      }
     ]
    },
    "q10": {
     "name": "q10",
     "points": 4,
     "suites": [
      {
       "cases": [
        {
         "code": ">>> def test_svd(M3):\n...     assert np.allclose(M3, U @ np.diag(s) @ V, atol=0.05), 'SVD reconstruction failed'\n>>> test_svd(M3)\n",
         "hidden": false,
         "locked": false
        }
       ],
       "scored": true,
       "setup": "",
       "teardown": "",
       "type": "doctest"
      }
     ]
    },
    "q2": {
     "name": "q2",
     "points": 1,
     "suites": [
      {
       "cases": [
        {
         "code": ">>> def test_q2(random_array):\n...     assert random_array.shape == (3, 3), f'Expected shape (3, 3), but got {random_array.shape}'\n...     assert np.all(random_array >= 1) and np.all(random_array <= 10), f'Expected all elements to be in the range 1 to 10, but found elements outside this range.'\n>>> test_q2(random_array)\n",
         "hidden": false,
         "locked": false
        }
       ],
       "scored": true,
       "setup": "",
       "teardown": "",
       "type": "doctest"
      }
     ]
    },
    "q3": {
     "name": "q3",
     "points": 2,
     "suites": [
      {
       "cases": [
        {
         "code": ">>> def test_q3(a1, a2):\n...     assert np.allclose(dot_product, 32), f'Expected dot product {32}, but got {dot_product}'\n>>> test_q3(a1, a2)\n",
         "hidden": false,
         "locked": false
        }
       ],
       "scored": true,
       "setup": "",
       "teardown": "",
       "type": "doctest"
      }
     ]
    },
    "q4": {
     "name": "q4",
     "points": 2,
     "suites": [
      {
       "cases": [
        {
         "code": ">>> def test_q4(M1, M2):\n...     assert np.allclose(product, [[19, 22], [43, 50]]), f'Expected matrix product [[19, 22], [43, 50]], but got {product}'\n>>> test_q4(M1, M2)\n",
         "hidden": false,
         "locked": false
        }
       ],
       "scored": true,
       "setup": "",
       "teardown": "",
       "type": "doctest"
      }
     ]
    },
    "q5": {
     "name": "q5",
     "points": 3,
     "suites": [
      {
       "cases": [
        {
         "code": ">>> def test_q5(a1, b1, result):\n...     assert np.allclose(result, [[2, 10, 8, 11], [4, 9, 2, 11], [6, 10, 4, 5]]), f'Expected result [[ 2, 10,  8, 11], [ 4,  9,  2, 11], [ 6, 10,  4,  5]], but got {result}'\n>>> test_q5(a1, b1, result)\n",
         "hidden": false,
         "locked": false
        }
       ],
       "scored": true,
       "setup": "",
       "teardown": "",
       "type": "doctest"
      }
     ]
    },
    "q6": {
     "name": "q6",
     "points": 2,
     "suites": [
      {
       "cases": [
        {
         "code": ">>> def test_q6(random_image, brightness_adjustments, changed_image):\n...     assert np.allclose(changed_image, random_image * brightness_adjustments, atol=1), f\"Didn't get expected changed image.\"\n>>> test_q6(random_image, brightness_adjustments, changed_image)\n",
         "hidden": false,
         "locked": false
        }
       ],
       "scored": true,
       "setup": "",
       "teardown": "",
       "type": "doctest"
      }
     ]
    },
    "q7": {
     "name": "q7",
     "points": 2,
     "suites": [
      {
       "cases": [
        {
         "code": ">>> def test_q7(v1, magnitude):\n...     assert np.isclose(magnitude, 18.76, atol=0.05), f'Expected magnitude {18.76}, but got {magnitude:.2f}'\n>>> test_q7(v1, magnitude)\n",
         "hidden": false,
         "locked": false
        }
       ],
       "scored": true,
       "setup": "",
       "teardown": "",
       "type": "doctest"
      }
     ]
    },
    "q8": {
     "name": "q8",
     "points": 2,
     "suites": [
      {
       "cases": [
        {
         "code": ">>> def test_eigenvalues(M3, eigenvalues):\n...     assert np.allclose(eigenvalues, [94.75, -4.75, 0.0], atol=0.05), f'Incorrect eigenvalues.'\n>>> test_eigenvalues(M3, eigenvalues)\n",
         "hidden": false,
         "locked": false
        },
        {
         "code": ">>> def test_eigenvectors(M3, eigenvectors):\n...     assert np.allclose(eigenvectors, [[-0.28, -0.78, 0.41], [-0.54, -0.07, -0.82], [-0.79, 0.63, 0.41]], atol=0.03), f'Incorrect eigenvectors'\n>>> test_eigenvectors(M3, eigenvectors)\n",
         "hidden": false,
         "locked": false
        }
       ],
       "scored": true,
       "setup": "",
       "teardown": "",
       "type": "doctest"
      }
     ]
    },
    "q9": {
     "name": "q9",
     "points": 2,
     "suites": [
      {
       "cases": [
        {
         "code": ">>> def test_eigen_reconstruction(M3, eigenvalues, eigenvectors):\n...     a = [[-0.49632839, -0.58968243, -0.68303647], [-0.89393102, -0.21497447, 0.46398207], [0.40824829, -0.81649658, 0.40824829]]\n...     b = [[94.7493719, 0.0, 0.0], [0.0, -4.74937186, 0.0], [0.0, 0.0, -8.79571373e-16]]\n...     M3_reconstructed = eigenvectors @ b @ a\n...     assert np.allclose(M3_reconstructed, M3), f'Eigen reconstruction failed'\n>>> test_eigen_reconstruction(M3, eigenvalues, eigenvectors)\n",
         "hidden": false,
         "locked": false
        }
       ],
       "scored": true,
       "setup": "",
       "teardown": "",
       "type": "doctest"
      }
     ]
    }
   }
  }
 },
 "nbformat": 4,
 "nbformat_minor": 2
}
